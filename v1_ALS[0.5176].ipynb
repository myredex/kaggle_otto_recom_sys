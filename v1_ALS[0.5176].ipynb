{
 "cells": [
  {
   "cell_type": "code",
   "execution_count": 1,
   "id": "251025ce-0efb-4884-81b3-31f37212af7c",
   "metadata": {},
   "outputs": [],
   "source": [
    "import pandas as pd\n",
    "import numpy as np\n",
    "import json\n",
    "from scipy import sparse as sp\n",
    "from tqdm.notebook import tqdm\n",
    "from collections import defaultdict\n",
    "import pickle\n",
    "import sys"
   ]
  },
  {
   "cell_type": "code",
   "execution_count": 2,
   "id": "61022418-9711-4a1e-b838-b5e21bd6b49d",
   "metadata": {},
   "outputs": [
    {
     "data": {
      "application/vnd.jupyter.widget-view+json": {
       "model_id": "e083aa0d63984ce8ba86d2af11096d23",
       "version_major": 2,
       "version_minor": 0
      },
      "text/plain": [
       "  0%|          | 0/50000 [00:00<?, ?it/s]"
      ]
     },
     "metadata": {},
     "output_type": "display_data"
    },
    {
     "data": {
      "application/vnd.jupyter.widget-view+json": {
       "model_id": "1efa2775a3a1499d82c908a9251261c5",
       "version_major": 2,
       "version_minor": 0
      },
      "text/plain": [
       "  0%|          | 0/50000 [00:00<?, ?it/s]"
      ]
     },
     "metadata": {},
     "output_type": "display_data"
    },
    {
     "data": {
      "application/vnd.jupyter.widget-view+json": {
       "model_id": "2662ad4e8e5b497d96c0dd8d223bcea8",
       "version_major": 2,
       "version_minor": 0
      },
      "text/plain": [
       "  0%|          | 0/50000 [00:00<?, ?it/s]"
      ]
     },
     "metadata": {},
     "output_type": "display_data"
    },
    {
     "data": {
      "application/vnd.jupyter.widget-view+json": {
       "model_id": "bdb91f211032493982276bee79cb6a9a",
       "version_major": 2,
       "version_minor": 0
      },
      "text/plain": [
       "  0%|          | 0/50000 [00:00<?, ?it/s]"
      ]
     },
     "metadata": {},
     "output_type": "display_data"
    },
    {
     "data": {
      "application/vnd.jupyter.widget-view+json": {
       "model_id": "baf1125817ae4f2f804946ea4a7031bd",
       "version_major": 2,
       "version_minor": 0
      },
      "text/plain": [
       "  0%|          | 0/50000 [00:00<?, ?it/s]"
      ]
     },
     "metadata": {},
     "output_type": "display_data"
    },
    {
     "data": {
      "application/vnd.jupyter.widget-view+json": {
       "model_id": "8700f3ddbd704a50967a4fa37717c2f6",
       "version_major": 2,
       "version_minor": 0
      },
      "text/plain": [
       "  0%|          | 0/50000 [00:00<?, ?it/s]"
      ]
     },
     "metadata": {},
     "output_type": "display_data"
    },
    {
     "data": {
      "application/vnd.jupyter.widget-view+json": {
       "model_id": "fe06d58d413c42ea9e9dd751c447d22f",
       "version_major": 2,
       "version_minor": 0
      },
      "text/plain": [
       "  0%|          | 0/50000 [00:00<?, ?it/s]"
      ]
     },
     "metadata": {},
     "output_type": "display_data"
    },
    {
     "data": {
      "application/vnd.jupyter.widget-view+json": {
       "model_id": "26bce77585db444ca02f195595f5653d",
       "version_major": 2,
       "version_minor": 0
      },
      "text/plain": [
       "  0%|          | 0/50000 [00:00<?, ?it/s]"
      ]
     },
     "metadata": {},
     "output_type": "display_data"
    },
    {
     "data": {
      "application/vnd.jupyter.widget-view+json": {
       "model_id": "cca1748d133c4af6b6279e318b77b0e8",
       "version_major": 2,
       "version_minor": 0
      },
      "text/plain": [
       "  0%|          | 0/50000 [00:00<?, ?it/s]"
      ]
     },
     "metadata": {},
     "output_type": "display_data"
    },
    {
     "data": {
      "application/vnd.jupyter.widget-view+json": {
       "model_id": "3fae96ad6b95427abba6bc2ee898a942",
       "version_major": 2,
       "version_minor": 0
      },
      "text/plain": [
       "  0%|          | 0/50000 [00:00<?, ?it/s]"
      ]
     },
     "metadata": {},
     "output_type": "display_data"
    },
    {
     "data": {
      "application/vnd.jupyter.widget-view+json": {
       "model_id": "d6fa6d16bb9a4367a2d9f5ecdf7b51f8",
       "version_major": 2,
       "version_minor": 0
      },
      "text/plain": [
       "  0%|          | 0/50000 [00:00<?, ?it/s]"
      ]
     },
     "metadata": {},
     "output_type": "display_data"
    },
    {
     "data": {
      "application/vnd.jupyter.widget-view+json": {
       "model_id": "9c80d3ede9c84db5a1ce15d2977fe2c5",
       "version_major": 2,
       "version_minor": 0
      },
      "text/plain": [
       "  0%|          | 0/50000 [00:00<?, ?it/s]"
      ]
     },
     "metadata": {},
     "output_type": "display_data"
    },
    {
     "data": {
      "application/vnd.jupyter.widget-view+json": {
       "model_id": "a8a56c2ff8364c0f8cfda19fb82de884",
       "version_major": 2,
       "version_minor": 0
      },
      "text/plain": [
       "  0%|          | 0/50000 [00:00<?, ?it/s]"
      ]
     },
     "metadata": {},
     "output_type": "display_data"
    },
    {
     "data": {
      "application/vnd.jupyter.widget-view+json": {
       "model_id": "db8d6b90d0c34838b42cf88367e3ac00",
       "version_major": 2,
       "version_minor": 0
      },
      "text/plain": [
       "  0%|          | 0/19403 [00:00<?, ?it/s]"
      ]
     },
     "metadata": {},
     "output_type": "display_data"
    }
   ],
   "source": [
    "# Create blank new collection's dicts\n",
    "cnt = defaultdict(int)\n",
    "clicks_cnt = defaultdict(int)\n",
    "carts_cnt = defaultdict(int)\n",
    "orders_cnt = defaultdict(int)\n",
    "\n",
    "# Load json to dataframes\n",
    "data = pd.read_json('train_sessions.jsonl', chunksize=50000, lines=True)\n",
    "\n",
    "# For each dataframe (chunk)\n",
    "for row in data:\n",
    "    for event in tqdm(row['events']):\n",
    "        \n",
    "        for product in event:\n",
    "            \n",
    "            # add +1 to each collection\n",
    "            cnt[product[\"aid\"]] += 1\n",
    "            \n",
    "            if product[\"type\"]=='orders':\n",
    "                orders_cnt[product[\"aid\"]] += 1\n",
    "                \n",
    "            elif product[\"type\"]=='carts':\n",
    "                carts_cnt[product[\"aid\"]] += 1\n",
    "                \n",
    "            else:\n",
    "                clicks_cnt[product[\"aid\"]] += 1"
   ]
  },
  {
   "cell_type": "code",
   "execution_count": 3,
   "id": "b1de9482-ce26-444a-ba1a-b8c1040f3f55",
   "metadata": {},
   "outputs": [],
   "source": [
    "# Save those dicts to future\n",
    "pickle.dump(cnt, open('tmp_cut/cnt_documents.pkl', \"wb\"))\n",
    "pickle.dump(clicks_cnt, open('tmp_cut/cnt_clicks.pkl', \"wb\"))\n",
    "pickle.dump(carts_cnt, open('tmp_cut/cnt_carts.pkl', \"wb\"))\n",
    "pickle.dump(orders_cnt, open('tmp_cut/cnt_orders.pkl', \"wb\"))"
   ]
  },
  {
   "cell_type": "code",
   "execution_count": 4,
   "id": "7f748eaa-6014-4aba-bacb-e7b2a2858d10",
   "metadata": {},
   "outputs": [],
   "source": [
    "# Load data from pickles\n",
    "#cnt = pd.read_pickle('tmp_cut/cnt_documents.pkl')\n",
    "#cnt_clicks = pd.read_pickle('tmp_cut/cnt_clicks.pkl')\n",
    "#cnt_carts = pd.read_pickle('tmp_cut/cnt_carts.pkl')\n",
    "#cnt_orders = pd.read_pickle('tmp_cut/cnt_orders.pkl')"
   ]
  },
  {
   "cell_type": "code",
   "execution_count": 5,
   "id": "fe80f84f-21a7-4069-8644-9d8f662cd810",
   "metadata": {},
   "outputs": [],
   "source": [
    "# Create list of top products\n",
    "_tmp = list(cnt.keys())\n",
    "top_products = sorted(_tmp, key=lambda x: -cnt[x])\n",
    "\n",
    "list_of_products = pd.DataFrame(top_products)\n",
    "#list_of_products.to_pickle('list_of_products.pkl')"
   ]
  },
  {
   "cell_type": "code",
   "execution_count": 6,
   "id": "056e0dbe-a95c-4357-ba10-a46f6638129d",
   "metadata": {},
   "outputs": [],
   "source": [
    "# Create dataframe for EDA\n",
    "df = pd.DataFrame(cnt.items(), columns=['aid', 'num_actions'])"
   ]
  },
  {
   "cell_type": "code",
   "execution_count": 7,
   "id": "ae2e795a-c2b3-454e-bf10-15a81ec1f0e1",
   "metadata": {},
   "outputs": [
    {
     "data": {
      "text/plain": [
       "(700198, 2)"
      ]
     },
     "execution_count": 7,
     "metadata": {},
     "output_type": "execute_result"
    }
   ],
   "source": [
    "df.shape"
   ]
  },
  {
   "cell_type": "code",
   "execution_count": 8,
   "id": "20ab717e-8737-48da-91b3-41f9c0045098",
   "metadata": {},
   "outputs": [
    {
     "data": {
      "text/plain": [
       "(700198, 2)"
      ]
     },
     "execution_count": 8,
     "metadata": {},
     "output_type": "execute_result"
    }
   ],
   "source": [
    "df[df['num_actions']>=1].shape"
   ]
  },
  {
   "cell_type": "code",
   "execution_count": 11,
   "id": "388ed778-898d-4e54-b043-ac4ab7f3e76d",
   "metadata": {},
   "outputs": [
    {
     "data": {
      "text/plain": [
       "(700198, 2)"
      ]
     },
     "execution_count": 11,
     "metadata": {},
     "output_type": "execute_result"
    }
   ],
   "source": [
    "# create new small dataframe\n",
    "small_df = df.copy()# [df['num_actions']>=2]\n",
    "small_df.reset_index(drop=True, inplace=True)\n",
    "small_df.shape"
   ]
  },
  {
   "cell_type": "markdown",
   "id": "6968ca94-2e9f-4e0a-adfc-7d00dd741275",
   "metadata": {},
   "source": [
    "## Data preparation"
   ]
  },
  {
   "cell_type": "markdown",
   "id": "4315933c-ae33-4064-b0fa-1282fcd5a172",
   "metadata": {},
   "source": [
    "I need to prepare two dicts for future counting"
   ]
  },
  {
   "cell_type": "code",
   "execution_count": 10,
   "id": "7fcf91a3",
   "metadata": {},
   "outputs": [],
   "source": [
    "# Create first dict for pair index = product_id\n",
    "index_pid_dict = small_df['aid'].to_dict() "
   ]
  },
  {
   "cell_type": "code",
   "execution_count": 12,
   "id": "c54c1b38",
   "metadata": {},
   "outputs": [],
   "source": [
    "# Create second dict for pair product_id = index\n",
    "small_df['ind'] = small_df.index\n",
    "\n",
    "small_df.set_index(['aid'], inplace=True)\n",
    "\n",
    "pid_index_dict = small_df['ind'].to_dict()"
   ]
  },
  {
   "cell_type": "code",
   "execution_count": 13,
   "id": "e6665949-1e25-4ca2-afa7-85a71df68704",
   "metadata": {},
   "outputs": [],
   "source": [
    "#pid_index_dict"
   ]
  },
  {
   "cell_type": "markdown",
   "id": "39a6d6c1-a924-423c-adcf-30e3f8abc665",
   "metadata": {},
   "source": [
    "When two dicts created define functions to operate with this dicts"
   ]
  },
  {
   "cell_type": "code",
   "execution_count": 14,
   "id": "a6689bfb-75ac-429a-bca6-f40cb999a5c9",
   "metadata": {},
   "outputs": [],
   "source": [
    "def pid_to_idx(dicti, prod_id):\n",
    "    #returns index number input List or One Id\n",
    "    if type(prod_id) == int:\n",
    "        return dicti[prod_id]\n",
    "    return (dicti[x] for x in prod_id)\n",
    "\n",
    "def idx_to_pid(dicti, prod_idx):\n",
    "    #returns number of the product\n",
    "    if type(prod_idx) == int:\n",
    "        return dicti[prod_idx]\n",
    "    return (dicti[x] for x in prod_idx)\n",
    "\n",
    "# How to use this functions\n",
    "#pid_to_idx(pid_index_dict, 1680086)\n",
    "#idx_to_pid(index_pid_dict, 1)"
   ]
  },
  {
   "cell_type": "code",
   "execution_count": 15,
   "id": "6ea3eb12-bd33-46d2-9689-7c6daa0b41b9",
   "metadata": {},
   "outputs": [],
   "source": [
    "def make_coo_row(row, num_of_prod):\n",
    "    # creates one row to the matrix\n",
    "    idx = []\n",
    "    values = []\n",
    "    items = [] \n",
    "\n",
    "    # Read each row in json then check if product id in our shortened list of products\n",
    "    items.extend([i[\"aid\"] for i in row if i[\"aid\"] in pid_index_dict])\n",
    "    #for i in row:\n",
    "    #    if i[\"aid\"] in index_pid_dict.values():\n",
    "    #        items.extend(i[\"aid\"])\n",
    "        \n",
    "    n_items = len(items)\n",
    "\n",
    "    for pid in items:\n",
    "\n",
    "        idx.append(pid_to_idx(pid_index_dict, pid))\n",
    "\n",
    "        # Normalisation on count of products\n",
    "        values.append(1.0 / n_items)\n",
    "\n",
    "    return sp.coo_matrix(\n",
    "        (np.array(values).astype(np.float32), ([0] * len(idx), idx)), shape=(1, num_of_prod),\n",
    "    )"
   ]
  },
  {
   "cell_type": "code",
   "execution_count": 16,
   "id": "b5b4e858-c801-4ad8-a9cf-82385e92b651",
   "metadata": {},
   "outputs": [],
   "source": [
    "data2 = pd.read_json('train_sessions.jsonl', lines=True, chunksize=100000)"
   ]
  },
  {
   "cell_type": "code",
   "execution_count": 17,
   "id": "85c81863-bfb4-4fbd-85ff-08a68eafb730",
   "metadata": {},
   "outputs": [
    {
     "data": {
      "application/vnd.jupyter.widget-view+json": {
       "model_id": "114f125e4b1d41249de3ba67675c5206",
       "version_major": 2,
       "version_minor": 0
      },
      "text/plain": [
       "0it [00:00, ?it/s]"
      ]
     },
     "metadata": {},
     "output_type": "display_data"
    },
    {
     "data": {
      "application/vnd.jupyter.widget-view+json": {
       "model_id": "d666e9611e874c4a834d38d1b45fc62c",
       "version_major": 2,
       "version_minor": 0
      },
      "text/plain": [
       "  0%|          | 0/100000 [00:00<?, ?it/s]"
      ]
     },
     "metadata": {},
     "output_type": "display_data"
    },
    {
     "data": {
      "application/vnd.jupyter.widget-view+json": {
       "model_id": "9caef68f28094853a47f247e2822b564",
       "version_major": 2,
       "version_minor": 0
      },
      "text/plain": [
       "  0%|          | 0/100000 [00:00<?, ?it/s]"
      ]
     },
     "metadata": {},
     "output_type": "display_data"
    },
    {
     "data": {
      "application/vnd.jupyter.widget-view+json": {
       "model_id": "15726ff7a9dd4a5b81b965a74c1e24ea",
       "version_major": 2,
       "version_minor": 0
      },
      "text/plain": [
       "  0%|          | 0/100000 [00:00<?, ?it/s]"
      ]
     },
     "metadata": {},
     "output_type": "display_data"
    },
    {
     "data": {
      "application/vnd.jupyter.widget-view+json": {
       "model_id": "823204a65f4c42c492b3231de33c095c",
       "version_major": 2,
       "version_minor": 0
      },
      "text/plain": [
       "  0%|          | 0/100000 [00:00<?, ?it/s]"
      ]
     },
     "metadata": {},
     "output_type": "display_data"
    },
    {
     "data": {
      "application/vnd.jupyter.widget-view+json": {
       "model_id": "c604e7f5070741eea7abb67c277dcfff",
       "version_major": 2,
       "version_minor": 0
      },
      "text/plain": [
       "  0%|          | 0/100000 [00:00<?, ?it/s]"
      ]
     },
     "metadata": {},
     "output_type": "display_data"
    },
    {
     "data": {
      "application/vnd.jupyter.widget-view+json": {
       "model_id": "9957161ccccd4c6dbc9efd126f7de6f7",
       "version_major": 2,
       "version_minor": 0
      },
      "text/plain": [
       "  0%|          | 0/100000 [00:00<?, ?it/s]"
      ]
     },
     "metadata": {},
     "output_type": "display_data"
    },
    {
     "data": {
      "application/vnd.jupyter.widget-view+json": {
       "model_id": "ec9d03834885475d9ffaaee5a4a075ae",
       "version_major": 2,
       "version_minor": 0
      },
      "text/plain": [
       "  0%|          | 0/69403 [00:00<?, ?it/s]"
      ]
     },
     "metadata": {},
     "output_type": "display_data"
    }
   ],
   "source": [
    "# Create blank matrix\n",
    "matrix_rows = []       \n",
    "\n",
    "for chunk in tqdm(data2):\n",
    "    for row in tqdm(chunk['events']):\n",
    "        matrix_rows.append(make_coo_row(row, len(pid_index_dict)))\n"
   ]
  },
  {
   "cell_type": "code",
   "execution_count": 18,
   "id": "257350de-4356-43cb-9387-f2b06516b6ac",
   "metadata": {},
   "outputs": [],
   "source": [
    "# Save matrix\n",
    "pickle.dump(matrix_rows, open('tmp_cut/matrix_rows_not_full.pkl', \"wb\"))"
   ]
  },
  {
   "cell_type": "code",
   "execution_count": 19,
   "id": "5f59ece6-555a-4783-aee3-b0d20fdf29fc",
   "metadata": {},
   "outputs": [],
   "source": [
    "# Convert coo matrix to vstack matrix\n",
    "train_mat = sp.vstack(matrix_rows)"
   ]
  },
  {
   "cell_type": "code",
   "execution_count": 20,
   "id": "53c7fa0a-9d31-4c16-a2a6-37e48e65c039",
   "metadata": {},
   "outputs": [],
   "source": [
    "# Save matrix\n",
    "pickle.dump(train_mat, open('tmp_cut/train_mat_not_full.pkl', \"wb\")) "
   ]
  },
  {
   "cell_type": "code",
   "execution_count": 21,
   "id": "8804c5b9-87ae-48c1-b774-f50514182927",
   "metadata": {},
   "outputs": [
    {
     "data": {
      "text/plain": [
       "(669403, 700198)"
      ]
     },
     "execution_count": 21,
     "metadata": {},
     "output_type": "execute_result"
    }
   ],
   "source": [
    "train_mat.shape"
   ]
  },
  {
   "cell_type": "code",
   "execution_count": 22,
   "id": "ea4374c0-d175-43c6-b6c8-c676f13bc979",
   "metadata": {},
   "outputs": [],
   "source": [
    "# read train_mat from pickle if needed\n",
    "# train_mat = pd.read_pickle('tmp_cut/train_mat_not_full.pkl')"
   ]
  },
  {
   "cell_type": "markdown",
   "id": "ef3e201a-e1c9-43b6-82df-7e6649ce6bb8",
   "metadata": {},
   "source": [
    "## Training model"
   ]
  },
  {
   "cell_type": "code",
   "execution_count": 23,
   "id": "e932bcbb-11b3-49fb-a06f-e82b21b291c8",
   "metadata": {},
   "outputs": [],
   "source": [
    "import implicit"
   ]
  },
  {
   "cell_type": "code",
   "execution_count": 24,
   "id": "6070459f-67ee-4778-b042-84f6842b490e",
   "metadata": {},
   "outputs": [],
   "source": [
    "model = implicit.nearest_neighbours.CosineRecommender(K=30)"
   ]
  },
  {
   "cell_type": "code",
   "execution_count": 25,
   "id": "fb1a9ff7-a89d-4ce3-bf2f-bc3be0f5a1df",
   "metadata": {},
   "outputs": [
    {
     "name": "stderr",
     "output_type": "stream",
     "text": [
      "C:\\Users\\ttkz\\anaconda3\\lib\\site-packages\\implicit\\utils.py:138: ParameterWarning: Method expects CSR input, and was passed coo_matrix instead. Converting to CSR took 0.15033864974975586 seconds\n",
      "  warnings.warn(\n"
     ]
    },
    {
     "data": {
      "application/vnd.jupyter.widget-view+json": {
       "model_id": "50570ca255f048dea00a0fe06dbfee96",
       "version_major": 2,
       "version_minor": 0
      },
      "text/plain": [
       "  0%|          | 0/700198 [00:00<?, ?it/s]"
      ]
     },
     "metadata": {},
     "output_type": "display_data"
    }
   ],
   "source": [
    "# Fit the model but matrix should be used in rotated veiw / or not test it\n",
    "# From time to time it unfits, just restart the cell\n",
    "model.fit(train_mat)"
   ]
  },
  {
   "cell_type": "code",
   "execution_count": 26,
   "id": "263dcf8e-d378-43cc-a848-177e9907fc56",
   "metadata": {},
   "outputs": [],
   "source": [
    "# Save model\n",
    "pickle.dump(model, open('tmp_cut/als_model_cut_rotated.pkl', \"wb\")) "
   ]
  },
  {
   "cell_type": "markdown",
   "id": "0d6065e9-9be4-434d-8d63-5f48e0ff30b7",
   "metadata": {},
   "source": [
    "## Sumbmission part and test results"
   ]
  },
  {
   "cell_type": "code",
   "execution_count": 27,
   "id": "38364f96-db29-4f2c-b8d4-7e5ec19b6349",
   "metadata": {},
   "outputs": [],
   "source": [
    "test = pd.read_json('test_sessions.jsonl', chunksize=100000, lines=True)"
   ]
  },
  {
   "cell_type": "code",
   "execution_count": 28,
   "id": "99581337-a255-4b41-8b1c-18381d2f6582",
   "metadata": {},
   "outputs": [
    {
     "data": {
      "application/vnd.jupyter.widget-view+json": {
       "model_id": "21db8d7020f141a690edfee5e2ed5024",
       "version_major": 2,
       "version_minor": 0
      },
      "text/plain": [
       "0it [00:00, ?it/s]"
      ]
     },
     "metadata": {},
     "output_type": "display_data"
    },
    {
     "data": {
      "application/vnd.jupyter.widget-view+json": {
       "model_id": "667a5ccc528445008bf78730029b3d69",
       "version_major": 2,
       "version_minor": 0
      },
      "text/plain": [
       "0it [00:00, ?it/s]"
      ]
     },
     "metadata": {},
     "output_type": "display_data"
    },
    {
     "data": {
      "application/vnd.jupyter.widget-view+json": {
       "model_id": "51e253226632458e8a6c90b0bca6b776",
       "version_major": 2,
       "version_minor": 0
      },
      "text/plain": [
       "0it [00:00, ?it/s]"
      ]
     },
     "metadata": {},
     "output_type": "display_data"
    },
    {
     "data": {
      "application/vnd.jupyter.widget-view+json": {
       "model_id": "82e2b480a74b445ebc3df69b839c5991",
       "version_major": 2,
       "version_minor": 0
      },
      "text/plain": [
       "0it [00:00, ?it/s]"
      ]
     },
     "metadata": {},
     "output_type": "display_data"
    }
   ],
   "source": [
    "sessions_array =  []\n",
    "\n",
    "for chunk in tqdm(test):\n",
    "    for index, row in tqdm(chunk['events'].iteritems()):\n",
    "        \n",
    "        # Count one row for the matrix\n",
    "        one_row = make_coo_row(row, len(pid_index_dict)).tocsr()\n",
    "        \n",
    "        raw_recs = model.recommend(userid=0, \n",
    "                                   user_items = one_row, \n",
    "                                   N=20, \n",
    "                                   filter_already_liked_items=False, \n",
    "                                   recalculate_user=True\n",
    "        )\n",
    "                           \n",
    "        recommended_items = list(idx_to_pid(index_pid_dict, [idx for idx in raw_recs[0]]))\n",
    "        \n",
    "        #recommended_items.extend(items_not_in_dict)\n",
    "        \n",
    "        if not recommended_items:\n",
    "            recommended_items = top_products[:20]\n",
    "        \n",
    "        top_events = \" \".join(str(item) for item in recommended_items[:20])\n",
    "        \n",
    "        #print(row)\n",
    "        #print('raw_recs: ', raw_recs)\n",
    "        #print('recommended_items', recommended_items)\n",
    "        #print('top_events', top_events)\n",
    "        #print('items_not_in_dict', items_not_in_dict)\n",
    "        #print('items_in_dict', items_in_dict)\n",
    "        \n",
    "        name_clicks = str(chunk['session'][index]) + '_clicks'\n",
    "        name_carts = str(chunk['session'][index]) + '_carts'\n",
    "        name_orders = str(chunk['session'][index]) + '_orders'\n",
    "        \n",
    "        sessions_array.append([name_clicks, top_events]) \n",
    "        sessions_array.append([name_carts, top_events]) \n",
    "        sessions_array.append([name_orders, top_events])\n",
    "    "
   ]
  },
  {
   "cell_type": "code",
   "execution_count": 29,
   "id": "ce7b006f-94c5-472c-a696-661776b1732a",
   "metadata": {},
   "outputs": [
    {
     "data": {
      "text/html": [
       "<div>\n",
       "<style scoped>\n",
       "    .dataframe tbody tr th:only-of-type {\n",
       "        vertical-align: middle;\n",
       "    }\n",
       "\n",
       "    .dataframe tbody tr th {\n",
       "        vertical-align: top;\n",
       "    }\n",
       "\n",
       "    .dataframe thead th {\n",
       "        text-align: right;\n",
       "    }\n",
       "</style>\n",
       "<table border=\"1\" class=\"dataframe\">\n",
       "  <thead>\n",
       "    <tr style=\"text-align: right;\">\n",
       "      <th></th>\n",
       "      <th>session_type</th>\n",
       "      <th>labels</th>\n",
       "    </tr>\n",
       "  </thead>\n",
       "  <tbody>\n",
       "    <tr>\n",
       "      <th>0</th>\n",
       "      <td>11954372_clicks</td>\n",
       "      <td>600556 820215 221435 1646920 1798482 1679435 1...</td>\n",
       "    </tr>\n",
       "    <tr>\n",
       "      <th>1</th>\n",
       "      <td>11954372_carts</td>\n",
       "      <td>600556 820215 221435 1646920 1798482 1679435 1...</td>\n",
       "    </tr>\n",
       "    <tr>\n",
       "      <th>2</th>\n",
       "      <td>11954372_orders</td>\n",
       "      <td>600556 820215 221435 1646920 1798482 1679435 1...</td>\n",
       "    </tr>\n",
       "    <tr>\n",
       "      <th>3</th>\n",
       "      <td>11984017_clicks</td>\n",
       "      <td>1463787 1360201 908157 1523205 226280 1417023 ...</td>\n",
       "    </tr>\n",
       "    <tr>\n",
       "      <th>4</th>\n",
       "      <td>11984017_carts</td>\n",
       "      <td>1463787 1360201 908157 1523205 226280 1417023 ...</td>\n",
       "    </tr>\n",
       "  </tbody>\n",
       "</table>\n",
       "</div>"
      ],
      "text/plain": [
       "      session_type                                             labels\n",
       "0  11954372_clicks  600556 820215 221435 1646920 1798482 1679435 1...\n",
       "1   11954372_carts  600556 820215 221435 1646920 1798482 1679435 1...\n",
       "2  11954372_orders  600556 820215 221435 1646920 1798482 1679435 1...\n",
       "3  11984017_clicks  1463787 1360201 908157 1523205 226280 1417023 ...\n",
       "4   11984017_carts  1463787 1360201 908157 1523205 226280 1417023 ..."
      ]
     },
     "execution_count": 29,
     "metadata": {},
     "output_type": "execute_result"
    }
   ],
   "source": [
    "# Create dataframe\n",
    "submission = pd.DataFrame(data = sessions_array, columns=['session_type', 'labels'])\n",
    "submission.to_csv('predictions.csv', index=False)\n",
    "submission.head()"
   ]
  },
  {
   "cell_type": "markdown",
   "id": "b64448b7-0c10-45e3-9684-42e149816d82",
   "metadata": {},
   "source": [
    "Best score is:<br>\n",
    "{'clicks': 0.43678669484662336, 'carts': 0.3737382537805713, 'orders': 0.6030793682328399, 'total': 0.5176477665585377}\n",
    "\n",
    "On full data, score was 0.548"
   ]
  },
  {
   "cell_type": "code",
   "execution_count": null,
   "id": "ea31f2c5-999c-4944-b4b0-fe2276de26f2",
   "metadata": {},
   "outputs": [],
   "source": []
  }
 ],
 "metadata": {
  "kernelspec": {
   "display_name": "Python 3 (ipykernel)",
   "language": "python",
   "name": "python3"
  },
  "language_info": {
   "codemirror_mode": {
    "name": "ipython",
    "version": 3
   },
   "file_extension": ".py",
   "mimetype": "text/x-python",
   "name": "python",
   "nbconvert_exporter": "python",
   "pygments_lexer": "ipython3",
   "version": "3.9.13"
  }
 },
 "nbformat": 4,
 "nbformat_minor": 5
}
